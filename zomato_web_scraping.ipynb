{
 "cells": [
  {
   "cell_type": "markdown",
   "id": "monthly-scientist",
   "metadata": {},
   "source": [
    "# Task 1"
   ]
  },
  {
   "cell_type": "markdown",
   "id": "absent-terminal",
   "metadata": {},
   "source": [
    "# Web scraping"
   ]
  },
  {
   "cell_type": "code",
   "execution_count": 16,
   "id": "acceptable-collect",
   "metadata": {},
   "outputs": [],
   "source": [
    "import pandas as pd\n",
    "import re\n",
    "from bs4 import BeautifulSoup\n",
    "import requests\n",
    "\n",
    "header = {'User-Agent': 'NodePing'}\n",
    "url='https://www.zomato.com/bangalore/' #link of we site \n",
    "response= requests.get(url,headers=header)\n",
    "soup=BeautifulSoup(response.content,'lxml')\n",
    "Zomato_area_link=[]\n",
    "def resutrent_area(soup):\n",
    "    links=[]\n",
    "    for link in soup.find_all('a'):\n",
    "        links.append(link.get('href')) #extrating href tags from soup\n",
    "    \n",
    "    links = list(filter(None, links)) \n",
    "\n",
    "    for i in range(len(links)): # finding all resturent link with help of regex\n",
    "        if re.findall(r\"^https:.*-restaurants$\",links[i]):\n",
    "            Zomato_area_link.append(links[i]) # final list \n",
    "            \n",
    "resutrent_area(soup)"
   ]
  },
  {
   "cell_type": "code",
   "execution_count": 17,
   "id": "sunrise-reconstruction",
   "metadata": {},
   "outputs": [],
   "source": [
    "Zomato_rest_link=[]\n",
    "def resutrent_name(i,header):\n",
    "    links=[]\n",
    "    rest_link=[]\n",
    "    page = requests.get(i, headers=header)\n",
    "    soup = BeautifulSoup(page.text,'lxml')\n",
    "    for link in soup.find_all('a'):\n",
    "            links.append(link.get('href'))\n",
    "            \n",
    "    links = list(filter(None, links)) \n",
    "\n",
    "    for i in range(len(links)):\n",
    "        if re.findall(r\"order$\",links[i]):\n",
    "            rest_link.append(links[i])\n",
    "            \n",
    "    Zomato_rest_link.extend(rest_link)\n",
    "            \n",
    "for i in Zomato_area_link:\n",
    "    header = {'User-Agent': 'NodePing'}\n",
    "    resutrent_name(i,header)\n",
    "\n",
    "Zomato_rest_link=(list(set(Zomato_rest_link)))\n",
    "Zomato_rest_link = list(map(lambda x:\"https://www.zomato.com\"+x,Zomato_rest_link))"
   ]
  },
  {
   "cell_type": "code",
   "execution_count": 28,
   "id": "secret-latex",
   "metadata": {},
   "outputs": [],
   "source": [
    "data=pd.DataFrame()\n",
    "c=0\n",
    "def list_all(links):\n",
    "    cuisine_name=[]\n",
    "    price=[]\n",
    "    description=[]\n",
    "    rest_name=[]\n",
    "\n",
    "    global data\n",
    "    \n",
    "    page = requests.get(links, headers=header)\n",
    "    soup = BeautifulSoup(page.text, 'lxml')\n",
    "    \n",
    "    rest_name.append(soup.select('h1.sc-7kepeu-0')[-1].text)\n",
    "\n",
    "    for h in soup.find_all('h4',class_=\"sc-1s0saks-15 iSmBPS\"):\n",
    "        cuisine_name.append(h.text)\n",
    "        \n",
    "    rest_name=rest_name*len(cuisine_name)\n",
    "    \n",
    "    for h1 in soup.find_all('span',class_=\"sc-17hyc2s-1 cCiQWA\"):\n",
    "        price.append(h1.text)\n",
    "\n",
    "    for h2 in soup.find_all('p',class_=\"sc-1s0saks-12 hcROsL\"):\n",
    "        description.append(h2.text)\n",
    "    \n",
    "    \n",
    "    if data.empty:\n",
    "        data=pd.DataFrame(zip(rest_name,cuisine_name,price,description))\n",
    "    else:\n",
    "        data1=pd.DataFrame(zip(rest_name,cuisine_name,price,description))\n",
    "        data=data.append(data1,ignore_index = True)\n",
    "\n",
    "for i in Zomato_rest_link:\n",
    "    list_all(i)\n",
    "    \n",
    "data.to_csv('Zomata_menu1.csv',index=False) "
   ]
  },
  {
   "cell_type": "code",
   "execution_count": 2,
   "id": "continuous-bailey",
   "metadata": {},
   "outputs": [],
   "source": [
    "import pandas as pd\n",
    "a=pd.read_csv('Zomata_menu.csv')\n",
    "a.rename(columns={'0':'rest_name','1':'cuisine_name','2':'price','3':'description'},inplace=True)\n",
    "a.to_csv(\"zomato_m.csv\")"
   ]
  },
  {
   "cell_type": "code",
   "execution_count": 8,
   "id": "equipped-turning",
   "metadata": {},
   "outputs": [
    {
     "data": {
      "text/plain": [
       "(21545, 4)"
      ]
     },
     "execution_count": 8,
     "metadata": {},
     "output_type": "execute_result"
    }
   ],
   "source": [
    "a.shape"
   ]
  },
  {
   "cell_type": "markdown",
   "id": "organic-upgrade",
   "metadata": {},
   "source": [
    "# Task 2"
   ]
  },
  {
   "cell_type": "markdown",
   "id": "rental-elite",
   "metadata": {},
   "source": [
    "# Come up with the frequency of each word used across all item descriptions"
   ]
  },
  {
   "cell_type": "code",
   "execution_count": 4,
   "id": "brief-webmaster",
   "metadata": {},
   "outputs": [
    {
     "data": {
      "text/plain": [
       "0        Empire classic batter fried Kebab, Signature d...\n",
       "1        Clay pot oven grilled chicken with a smoky fla...\n",
       "2          Succulent Chiken Meat in aromatic Biriyani Rice\n",
       "3                       Buttery tomato gravy with chicken.\n",
       "4          Choice of any non-veg Starter + Chicken Biryani\n",
       "                               ...                        \n",
       "21540                           Mango juice, coconut, mint\n",
       "21541                                                  NaN\n",
       "21542                                                  NaN\n",
       "21543                                                  NaN\n",
       "21544                                                  NaN\n",
       "Name: description, Length: 21545, dtype: object"
      ]
     },
     "execution_count": 4,
     "metadata": {},
     "output_type": "execute_result"
    }
   ],
   "source": [
    "a['description']"
   ]
  },
  {
   "cell_type": "code",
   "execution_count": null,
   "id": "concrete-michael",
   "metadata": {},
   "outputs": [],
   "source": []
  }
 ],
 "metadata": {
  "kernelspec": {
   "display_name": "Python 3",
   "language": "python",
   "name": "python3"
  },
  "language_info": {
   "codemirror_mode": {
    "name": "ipython",
    "version": 3
   },
   "file_extension": ".py",
   "mimetype": "text/x-python",
   "name": "python",
   "nbconvert_exporter": "python",
   "pygments_lexer": "ipython3",
   "version": "3.8.5"
  }
 },
 "nbformat": 4,
 "nbformat_minor": 5
}
